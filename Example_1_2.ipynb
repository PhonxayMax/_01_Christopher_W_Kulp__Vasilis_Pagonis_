{
  "nbformat": 4,
  "nbformat_minor": 0,
  "metadata": {
    "colab": {
      "provenance": [],
      "authorship_tag": "ABX9TyORXViDJGR+LCMokpu1SgLY",
      "include_colab_link": true
    },
    "kernelspec": {
      "name": "python3",
      "display_name": "Python 3"
    },
    "language_info": {
      "name": "python"
    }
  },
  "cells": [
    {
      "cell_type": "markdown",
      "metadata": {
        "id": "view-in-github",
        "colab_type": "text"
      },
      "source": [
        "<a href=\"https://colab.research.google.com/github/PhonxayMax/_01_Christopher_W_Kulp__Vasilis_Pagonis_/blob/main/Example_1_2.ipynb\" target=\"_parent\"><img src=\"https://colab.research.google.com/assets/colab-badge.svg\" alt=\"Open In Colab\"/></a>"
      ]
    },
    {
      "cell_type": "code",
      "source": [
        "from sympy import *\n",
        "init_printing()\n",
        "\n",
        "v = Function('v')\n",
        "t = Symbol('t', real = True, positive = True)\n",
        "a = Symbol('a', real = True)\n",
        "\n",
        "general_soln = dsolve(Derivative(v(t),t) - a, v(t))\n",
        "\n",
        "print(general_soln.rhs)\n"
      ],
      "metadata": {
        "colab": {
          "base_uri": "https://localhost:8080/"
        },
        "id": "KDXFfxEU-UQj",
        "outputId": "827ca3c8-9c0e-43c7-e10e-0f627b06783d"
      },
      "execution_count": 4,
      "outputs": [
        {
          "output_type": "stream",
          "name": "stdout",
          "text": [
            "C1 + a*t\n"
          ]
        }
      ]
    }
  ]
}